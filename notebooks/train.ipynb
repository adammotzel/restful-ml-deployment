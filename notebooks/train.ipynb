{
 "cells": [
  {
   "cell_type": "markdown",
   "id": "31c8593d-34a2-44e8-b996-2ba4b8d5ac55",
   "metadata": {},
   "source": [
    "# Model Training - Logistic Regression\n",
    "\n",
    "This is a simple example of fitting and serializing a Logistic Regression model. We will be using the `LogReg` class from the `turtles` Python package. Yes, this is my own Python package.\n",
    "\n",
    "https://github.com/adammotzel/glms\n",
    "\n",
    "The purpose of this project is to demonstrate the entire ML model lifecycle, with a focus on deploment. Because of this, we will skip the usual (ableit *very* important) model training steps (EDA, CV, tuning, etc.).\n",
    "\n",
    "We will be using the [breast cancer Wisconsin dataset](https://archive.ics.uci.edu/dataset/17/breast+cancer+wisconsin+diagnostic), downloaded from [Scikit-Learn](https://scikit-learn.org/stable/modules/generated/sklearn.datasets.load_breast_cancer.html)."
   ]
  },
  {
   "cell_type": "code",
   "execution_count": 1,
   "id": "0233c357-1c17-480e-a12d-4167c18e0811",
   "metadata": {},
   "outputs": [],
   "source": [
    "import pickle as pkl\n",
    "\n",
    "import numpy as np\n",
    "from sklearn.datasets import load_breast_cancer\n",
    "from sklearn.model_selection import train_test_split\n",
    "from turtles.stats.glms import LogReg"
   ]
  },
  {
   "cell_type": "code",
   "execution_count": 2,
   "id": "19852d76-1543-4081-b858-63bb280d423e",
   "metadata": {},
   "outputs": [],
   "source": [
    "random_state = 5\n",
    "test_size = 0.2"
   ]
  },
  {
   "cell_type": "code",
   "execution_count": 3,
   "id": "fef7c5ee-97e1-493d-ab30-33824386a3cf",
   "metadata": {},
   "outputs": [
    {
     "name": "stdout",
     "output_type": "stream",
     "text": [
      "X: (569, 30)\n",
      "y: (569,)\n",
      "Feature Names:  ['mean radius' 'mean texture' 'mean perimeter' 'mean area'\n",
      " 'mean smoothness' 'mean compactness' 'mean concavity'\n",
      " 'mean concave points' 'mean symmetry' 'mean fractal dimension'\n",
      " 'radius error' 'texture error' 'perimeter error' 'area error'\n",
      " 'smoothness error' 'compactness error' 'concavity error'\n",
      " 'concave points error' 'symmetry error' 'fractal dimension error'\n",
      " 'worst radius' 'worst texture' 'worst perimeter' 'worst area'\n",
      " 'worst smoothness' 'worst compactness' 'worst concavity'\n",
      " 'worst concave points' 'worst symmetry' 'worst fractal dimension']\n"
     ]
    }
   ],
   "source": [
    "# load sample data\n",
    "data = load_breast_cancer(as_frame=True)\n",
    "\n",
    "X = data[\"data\"]\n",
    "y = data[\"target\"]\n",
    "feature_names = data[\"feature_names\"]\n",
    "\n",
    "print(\"X:\", X.shape)\n",
    "print(\"y:\", y.shape)\n",
    "print(\"Feature Names: \", feature_names)"
   ]
  },
  {
   "cell_type": "code",
   "execution_count": 4,
   "id": "1e0dba8b",
   "metadata": {},
   "outputs": [
    {
     "name": "stdout",
     "output_type": "stream",
     "text": [
      "['mean radius', 'mean texture', 'mean perimeter', 'mean area', 'mean smoothness', 'mean compactness', 'mean concavity', 'mean concave points', 'mean symmetry', 'mean fractal dimension']\n",
      "New X: (569, 10)\n"
     ]
    }
   ],
   "source": [
    "# let's just select a few features\n",
    "features = [str(feat) for feat in feature_names if \"mean\" in feat]\n",
    "print(features)\n",
    "\n",
    "# slice df\n",
    "X = X[features].copy()\n",
    "print(\"New X:\", X.shape)"
   ]
  },
  {
   "cell_type": "code",
   "execution_count": 5,
   "id": "057192bf-8f61-4a14-bd3d-cba783d70076",
   "metadata": {},
   "outputs": [
    {
     "name": "stdout",
     "output_type": "stream",
     "text": [
      "Xtrain: (455, 10)\n",
      "Xtest: (114, 10)\n",
      "Ytrain: (455,)\n",
      "Ytest (114,)\n"
     ]
    }
   ],
   "source": [
    "# create splits\n",
    "Xtrain, Xtest, Ytrain, Ytest = train_test_split(\n",
    "    X, \n",
    "    y, \n",
    "    test_size=test_size, \n",
    "    random_state=random_state\n",
    ")\n",
    "\n",
    "print(\"Xtrain:\", Xtrain.shape)\n",
    "print(\"Xtest:\", Xtest.shape)\n",
    "print(\"Ytrain:\", Ytrain.shape)\n",
    "print(\"Ytest\", Ytest.shape)"
   ]
  },
  {
   "cell_type": "code",
   "execution_count": 6,
   "id": "6444eaac",
   "metadata": {},
   "outputs": [
    {
     "name": "stdout",
     "output_type": "stream",
     "text": [
      "Xtrain: (455, 10)\n",
      "Xtest: (114, 10)\n",
      "Ytrain: (455, 1)\n",
      "Ytest (114, 1)\n"
     ]
    }
   ],
   "source": [
    "# convert to numpy\n",
    "Xtrain = Xtrain.to_numpy()\n",
    "Xtest = Xtest.to_numpy()\n",
    "Ytrain = Ytrain.to_numpy().reshape(Ytrain.shape[0], 1)\n",
    "Ytest = Ytest.to_numpy().reshape(Ytest.shape[0], 1)\n",
    "\n",
    "print(\"Xtrain:\", Xtrain.shape)\n",
    "print(\"Xtest:\", Xtest.shape)\n",
    "print(\"Ytrain:\", Ytrain.shape)\n",
    "print(\"Ytest\", Ytest.shape)"
   ]
  },
  {
   "cell_type": "code",
   "execution_count": 7,
   "id": "4d09102b-eaf4-4ffd-b005-b51a60d042ca",
   "metadata": {},
   "outputs": [
    {
     "name": "stdout",
     "output_type": "stream",
     "text": [
      "Model Summary:\n",
      "\n"
     ]
    },
    {
     "data": {
      "text/html": [
       "<div>\n",
       "<style scoped>\n",
       "    .dataframe tbody tr th:only-of-type {\n",
       "        vertical-align: middle;\n",
       "    }\n",
       "\n",
       "    .dataframe tbody tr th {\n",
       "        vertical-align: top;\n",
       "    }\n",
       "\n",
       "    .dataframe thead th {\n",
       "        text-align: right;\n",
       "    }\n",
       "</style>\n",
       "<table border=\"1\" class=\"dataframe\">\n",
       "  <thead>\n",
       "    <tr style=\"text-align: right;\">\n",
       "      <th></th>\n",
       "      <th>Variable</th>\n",
       "      <th>Coefficient</th>\n",
       "      <th>Std Error</th>\n",
       "      <th>z-statistic</th>\n",
       "      <th>p-value</th>\n",
       "      <th>[0.025</th>\n",
       "      <th>0.075]</th>\n",
       "    </tr>\n",
       "  </thead>\n",
       "  <tbody>\n",
       "    <tr>\n",
       "      <th>0</th>\n",
       "      <td>Intercept</td>\n",
       "      <td>13.5702</td>\n",
       "      <td>15.6411</td>\n",
       "      <td>0.8676</td>\n",
       "      <td>0.3856</td>\n",
       "      <td>-17.0857</td>\n",
       "      <td>44.2261</td>\n",
       "    </tr>\n",
       "    <tr>\n",
       "      <th>1</th>\n",
       "      <td>mean radius</td>\n",
       "      <td>2.7190</td>\n",
       "      <td>4.1212</td>\n",
       "      <td>0.6598</td>\n",
       "      <td>0.5094</td>\n",
       "      <td>-5.3584</td>\n",
       "      <td>10.7965</td>\n",
       "    </tr>\n",
       "    <tr>\n",
       "      <th>2</th>\n",
       "      <td>mean texture</td>\n",
       "      <td>-0.4304</td>\n",
       "      <td>0.0794</td>\n",
       "      <td>-5.4230</td>\n",
       "      <td>0.0000</td>\n",
       "      <td>-0.5860</td>\n",
       "      <td>-0.2749</td>\n",
       "    </tr>\n",
       "    <tr>\n",
       "      <th>3</th>\n",
       "      <td>mean perimeter</td>\n",
       "      <td>-0.0941</td>\n",
       "      <td>0.5763</td>\n",
       "      <td>-0.1634</td>\n",
       "      <td>0.8702</td>\n",
       "      <td>-1.2237</td>\n",
       "      <td>1.0354</td>\n",
       "    </tr>\n",
       "    <tr>\n",
       "      <th>4</th>\n",
       "      <td>mean area</td>\n",
       "      <td>-0.0363</td>\n",
       "      <td>0.0197</td>\n",
       "      <td>-1.8412</td>\n",
       "      <td>0.0656</td>\n",
       "      <td>-0.0749</td>\n",
       "      <td>0.0023</td>\n",
       "    </tr>\n",
       "    <tr>\n",
       "      <th>5</th>\n",
       "      <td>mean smoothness</td>\n",
       "      <td>-87.6111</td>\n",
       "      <td>37.9331</td>\n",
       "      <td>-2.3096</td>\n",
       "      <td>0.0209</td>\n",
       "      <td>-161.9585</td>\n",
       "      <td>-13.2637</td>\n",
       "    </tr>\n",
       "    <tr>\n",
       "      <th>6</th>\n",
       "      <td>mean compactness</td>\n",
       "      <td>12.0804</td>\n",
       "      <td>24.4140</td>\n",
       "      <td>0.4948</td>\n",
       "      <td>0.6207</td>\n",
       "      <td>-35.7702</td>\n",
       "      <td>59.9309</td>\n",
       "    </tr>\n",
       "    <tr>\n",
       "      <th>7</th>\n",
       "      <td>mean concavity</td>\n",
       "      <td>-7.9231</td>\n",
       "      <td>9.4823</td>\n",
       "      <td>-0.8356</td>\n",
       "      <td>0.4034</td>\n",
       "      <td>-26.5081</td>\n",
       "      <td>10.6618</td>\n",
       "    </tr>\n",
       "    <tr>\n",
       "      <th>8</th>\n",
       "      <td>mean concave points</td>\n",
       "      <td>-70.6945</td>\n",
       "      <td>32.9000</td>\n",
       "      <td>-2.1488</td>\n",
       "      <td>0.0317</td>\n",
       "      <td>-135.1773</td>\n",
       "      <td>-6.2117</td>\n",
       "    </tr>\n",
       "    <tr>\n",
       "      <th>9</th>\n",
       "      <td>mean symmetry</td>\n",
       "      <td>-11.0483</td>\n",
       "      <td>11.8680</td>\n",
       "      <td>-0.9309</td>\n",
       "      <td>0.3519</td>\n",
       "      <td>-34.3092</td>\n",
       "      <td>12.2126</td>\n",
       "    </tr>\n",
       "    <tr>\n",
       "      <th>10</th>\n",
       "      <td>mean fractal dimension</td>\n",
       "      <td>27.0748</td>\n",
       "      <td>99.7204</td>\n",
       "      <td>0.2715</td>\n",
       "      <td>0.7860</td>\n",
       "      <td>-168.3737</td>\n",
       "      <td>222.5232</td>\n",
       "    </tr>\n",
       "  </tbody>\n",
       "</table>\n",
       "</div>"
      ],
      "text/plain": [
       "                  Variable  Coefficient  Std Error  z-statistic  p-value  \\\n",
       "0                Intercept      13.5702    15.6411       0.8676   0.3856   \n",
       "1              mean radius       2.7190     4.1212       0.6598   0.5094   \n",
       "2             mean texture      -0.4304     0.0794      -5.4230   0.0000   \n",
       "3           mean perimeter      -0.0941     0.5763      -0.1634   0.8702   \n",
       "4                mean area      -0.0363     0.0197      -1.8412   0.0656   \n",
       "5          mean smoothness     -87.6111    37.9331      -2.3096   0.0209   \n",
       "6         mean compactness      12.0804    24.4140       0.4948   0.6207   \n",
       "7           mean concavity      -7.9231     9.4823      -0.8356   0.4034   \n",
       "8      mean concave points     -70.6945    32.9000      -2.1488   0.0317   \n",
       "9            mean symmetry     -11.0483    11.8680      -0.9309   0.3519   \n",
       "10  mean fractal dimension      27.0748    99.7204       0.2715   0.7860   \n",
       "\n",
       "      [0.025    0.075]  \n",
       "0   -17.0857   44.2261  \n",
       "1    -5.3584   10.7965  \n",
       "2    -0.5860   -0.2749  \n",
       "3    -1.2237    1.0354  \n",
       "4    -0.0749    0.0023  \n",
       "5  -161.9585  -13.2637  \n",
       "6   -35.7702   59.9309  \n",
       "7   -26.5081   10.6618  \n",
       "8  -135.1773   -6.2117  \n",
       "9   -34.3092   12.2126  \n",
       "10 -168.3737  222.5232  "
      ]
     },
     "metadata": {},
     "output_type": "display_data"
    }
   ],
   "source": [
    "# fit model using newtons method\n",
    "model = LogReg(\n",
    "    method=\"newton\",\n",
    "    learning_rate=0.01,\n",
    "    tolerance=0.00001\n",
    ")\n",
    "\n",
    "model.fit(Xtrain, Ytrain, var_names=features)\n",
    "\n",
    "print(\"Model Summary:\\n\")\n",
    "display(model.summary())"
   ]
  },
  {
   "cell_type": "code",
   "execution_count": 8,
   "id": "82ceb937",
   "metadata": {},
   "outputs": [
    {
     "name": "stdout",
     "output_type": "stream",
     "text": [
      "['mean radius', 'mean texture', 'mean perimeter', 'mean area', 'mean smoothness', 'mean compactness', 'mean concavity', 'mean concave points', 'mean symmetry', 'mean fractal dimension']\n"
     ]
    }
   ],
   "source": [
    "# ensure we logged the features names\n",
    "print(model.variable_names)"
   ]
  },
  {
   "cell_type": "code",
   "execution_count": 9,
   "id": "471845ca-2ed3-4e51-b8f2-018584f031a8",
   "metadata": {},
   "outputs": [
    {
     "name": "stdout",
     "output_type": "stream",
     "text": [
      "TEST Accuracy: 0.9649122807017544\n"
     ]
    }
   ],
   "source": [
    "# results on test data using 0.5 as threshold\n",
    "preds = model.predict(Xtest) > 0.5\n",
    "\n",
    "print(\"TEST Accuracy:\", np.sum(preds == Ytest) / len(Ytest))"
   ]
  },
  {
   "cell_type": "code",
   "execution_count": 10,
   "id": "23f47948",
   "metadata": {},
   "outputs": [],
   "source": [
    "# save the model as a pickle file\n",
    "with open(\"../models/model.pkl\", \"wb\") as file:\n",
    "    pkl.dump(model, file)"
   ]
  },
  {
   "cell_type": "code",
   "execution_count": 11,
   "id": "a0869c9b",
   "metadata": {},
   "outputs": [
    {
     "name": "stdout",
     "output_type": "stream",
     "text": [
      "<turtles.stats.glms._logreg.LogReg object at 0x0000017A415F3F50>\n",
      "[[ 1.35702105e+01  2.71903741e+00 -4.30439215e-01 -9.41448707e-02\n",
      "  -3.62963324e-02 -8.76111312e+01  1.20803569e+01 -7.92314349e+00\n",
      "  -7.06945121e+01 -1.10483115e+01  2.70747687e+01]]\n",
      "['mean radius', 'mean texture', 'mean perimeter', 'mean area', 'mean smoothness', 'mean compactness', 'mean concavity', 'mean concave points', 'mean symmetry', 'mean fractal dimension']\n"
     ]
    }
   ],
   "source": [
    "# test the saved model to ensure it works as expected\n",
    "with open(\"../models/model.pkl\", \"rb\") as file:\n",
    "    loaded_model = pkl.load(file)\n",
    "\n",
    "print(loaded_model)\n",
    "print(loaded_model.betas)\n",
    "print(loaded_model.variable_names)"
   ]
  },
  {
   "cell_type": "code",
   "execution_count": null,
   "id": "a923d7d3",
   "metadata": {},
   "outputs": [],
   "source": []
  }
 ],
 "metadata": {
  "kernelspec": {
   "display_name": "venv",
   "language": "python",
   "name": "python3"
  },
  "language_info": {
   "codemirror_mode": {
    "name": "ipython",
    "version": 3
   },
   "file_extension": ".py",
   "mimetype": "text/x-python",
   "name": "python",
   "nbconvert_exporter": "python",
   "pygments_lexer": "ipython3",
   "version": "3.12.8"
  }
 },
 "nbformat": 4,
 "nbformat_minor": 5
}
